{
 "cells": [
  {
   "cell_type": "markdown",
   "metadata": {},
   "source": [
    "# Simple Linear Regression Example"
   ]
  },
  {
   "cell_type": "code",
   "execution_count": 1,
   "metadata": {},
   "outputs": [],
   "source": [
    "import numpy as np
",
    "import matplotlib.pyplot as plt
",
    "from sklearn.linear_model import LinearRegression
",
    "
",
    "# Generate some sample data
",
    "X = 2 * np.random.rand(100, 1)
",
    "y = 4 + 3 * X + np.random.randn(100, 1)
",
    "
",
    "# Create and train the model
",
    "model = LinearRegression()
",
    "model.fit(X, y)
",
    "
",
    "# Predict using the model
",
    "X_new = np.array([[0], [2]])
",
    "y_predict = model.predict(X_new)
",
    "
",
    "# Plot the results
",
    "plt.plot(X_new, y_predict, "r-", label="Predictions")
",
    "plt.plot(X, y, "b.", label="Actual data")
",
    "plt.xlabel("X")
",
    "plt.ylabel("y")
",
    "plt.legend()
",
    "plt.show()
"
   ]
  }
 ],
 "metadata": {
  "kernelspec": {
   "display_name": "Python 3",
   "language": "python",
   "name": "python3"
  },
  "language_info": {
   "codemirror_mode": {
    "name": "ipython",
    "version": 3
   },
   "file_extension": ".py",
   "mimetype": "text/x-python",
   "name": "python",
   "nbconvert_exporter": "python",
   "version": "3.8.5"
  }
 },
 "nbformat": 4,
 "nbformat_minor": 4
}
